{
 "cells": [
  {
   "cell_type": "code",
   "execution_count": 82,
   "outputs": [],
   "source": [
    "import numpy as np\n",
    "import pandas as pd\n",
    "import nltk\n",
    "import json\n",
    "import re\n",
    "import csv\n",
    "from tqdm import tqdm\n",
    "from sklearn.neighbors import NearestNeighbors\n",
    "from sklearn.feature_extraction.text import TfidfVectorizer"
   ],
   "metadata": {
    "collapsed": false
   }
  },
  {
   "cell_type": "code",
   "execution_count": 83,
   "outputs": [
    {
     "name": "stderr",
     "output_type": "stream",
     "text": [
      "16559it [00:00, 17200.01it/s]\n"
     ]
    }
   ],
   "source": [
    "# df = pd.read_csv('booksummaries.txt', sep='\\t', names=['wikiId', 'freeBaseId', 'title', 'author', 'date', 'genre', 'summary'])\n",
    "\n",
    "data = []\n",
    "\n",
    "with open(\"booksummaries.txt\", 'r') as f:\n",
    "    reader = csv.reader(f, dialect='excel-tab')\n",
    "    for row in tqdm(reader):\n",
    "        data.append(row)"
   ],
   "metadata": {
    "collapsed": false
   }
  },
  {
   "cell_type": "code",
   "execution_count": 84,
   "outputs": [
    {
     "name": "stderr",
     "output_type": "stream",
     "text": [
      "100%|██████████| 16559/16559 [00:00<00:00, 885378.03it/s]\n"
     ]
    },
    {
     "data": {
      "text/plain": "     ID                                  BookTitle           Author  \\\n0   620                                Animal Farm    George Orwell   \n1   843                         A Clockwork Orange  Anthony Burgess   \n2   986                                 The Plague     Albert Camus   \n3  1756  An Enquiry Concerning Human Understanding       David Hume   \n4  2080                       A Fire Upon the Deep     Vernor Vinge   \n\n                                               Genre  \\\n0  {\"/m/016lj8\": \"Roman \\u00e0 clef\", \"/m/06nbt\":...   \n1  {\"/m/06n90\": \"Science Fiction\", \"/m/0l67h\": \"N...   \n2  {\"/m/02m4t\": \"Existentialism\", \"/m/02xlf\": \"Fi...   \n3                                                      \n4  {\"/m/03lrw\": \"Hard science fiction\", \"/m/06n90...   \n\n                                             Summary  \n0   Old Major, the old boar on the Manor Farm, ca...  \n1   Alex, a teenager living in near-future Englan...  \n2   The text of The Plague is divided into five p...  \n3   The argument of the Enquiry proceeds by a ser...  \n4   The novel posits that space around the Milky ...  ",
      "text/html": "<div>\n<style scoped>\n    .dataframe tbody tr th:only-of-type {\n        vertical-align: middle;\n    }\n\n    .dataframe tbody tr th {\n        vertical-align: top;\n    }\n\n    .dataframe thead th {\n        text-align: right;\n    }\n</style>\n<table border=\"1\" class=\"dataframe\">\n  <thead>\n    <tr style=\"text-align: right;\">\n      <th></th>\n      <th>ID</th>\n      <th>BookTitle</th>\n      <th>Author</th>\n      <th>Genre</th>\n      <th>Summary</th>\n    </tr>\n  </thead>\n  <tbody>\n    <tr>\n      <th>0</th>\n      <td>620</td>\n      <td>Animal Farm</td>\n      <td>George Orwell</td>\n      <td>{\"/m/016lj8\": \"Roman \\u00e0 clef\", \"/m/06nbt\":...</td>\n      <td>Old Major, the old boar on the Manor Farm, ca...</td>\n    </tr>\n    <tr>\n      <th>1</th>\n      <td>843</td>\n      <td>A Clockwork Orange</td>\n      <td>Anthony Burgess</td>\n      <td>{\"/m/06n90\": \"Science Fiction\", \"/m/0l67h\": \"N...</td>\n      <td>Alex, a teenager living in near-future Englan...</td>\n    </tr>\n    <tr>\n      <th>2</th>\n      <td>986</td>\n      <td>The Plague</td>\n      <td>Albert Camus</td>\n      <td>{\"/m/02m4t\": \"Existentialism\", \"/m/02xlf\": \"Fi...</td>\n      <td>The text of The Plague is divided into five p...</td>\n    </tr>\n    <tr>\n      <th>3</th>\n      <td>1756</td>\n      <td>An Enquiry Concerning Human Understanding</td>\n      <td>David Hume</td>\n      <td></td>\n      <td>The argument of the Enquiry proceeds by a ser...</td>\n    </tr>\n    <tr>\n      <th>4</th>\n      <td>2080</td>\n      <td>A Fire Upon the Deep</td>\n      <td>Vernor Vinge</td>\n      <td>{\"/m/03lrw\": \"Hard science fiction\", \"/m/06n90...</td>\n      <td>The novel posits that space around the Milky ...</td>\n    </tr>\n  </tbody>\n</table>\n</div>"
     },
     "execution_count": 84,
     "metadata": {},
     "output_type": "execute_result"
    }
   ],
   "source": [
    "book_index = []\n",
    "book_id = []\n",
    "book_author = []\n",
    "book_name = []\n",
    "summary = []\n",
    "genre = []\n",
    "for i in tqdm(data):\n",
    "    book_id.append(i[0])\n",
    "    book_name.append(i[2])\n",
    "    book_author.append(i[3])\n",
    "    genre.append(i[5])\n",
    "    summary.append(i[6])\n",
    "\n",
    "df = pd.DataFrame({'ID': book_id, 'BookTitle': book_name, 'Author': book_author,\n",
    "                       'Genre': genre, 'Summary': summary})\n",
    "df.head()"
   ],
   "metadata": {
    "collapsed": false
   }
  },
  {
   "cell_type": "code",
   "execution_count": 105,
   "outputs": [],
   "source": [
    "df.isna().sum()\n",
    "\n",
    "df = df.drop(df[df['Genre'] == ''].index)\n",
    "df = df.drop(df[df['Summary'] == ''].index)\n",
    "\n",
    "\n",
    "genres_cleaned = []\n",
    "for i in df['Genre']:\n",
    "    genres_cleaned.append(\" \".join(list(json.loads(i).values())))\n",
    "df['Genres'] = genres_cleaned"
   ],
   "metadata": {
    "collapsed": false
   }
  },
  {
   "cell_type": "code",
   "execution_count": 106,
   "outputs": [],
   "source": [
    "def clean_summary(text):\n",
    "    text = re.sub(\"\\'\", \"\", text)\n",
    "    text = re.sub(\"[^a-zA-Z]\",\" \",text)\n",
    "    text = ' '.join(text.split())\n",
    "    text = text.lower()\n",
    "    return text\n",
    "\n",
    "df['clean_summary'] = df['Summary'].apply(lambda x: clean_summary(x))\n"
   ],
   "metadata": {
    "collapsed": false
   }
  },
  {
   "cell_type": "code",
   "execution_count": 107,
   "outputs": [
    {
     "data": {
      "text/plain": "      ID                          BookTitle                Author  \\\n0    620                        Animal Farm         George Orwell   \n1    843                 A Clockwork Orange       Anthony Burgess   \n2    986                         The Plague          Albert Camus   \n4   2080               A Fire Upon the Deep          Vernor Vinge   \n5   2152     All Quiet on the Western Front  Erich Maria Remarque   \n6   2890               A Wizard of Earthsea     Ursula K. Le Guin   \n8   4081    Blade Runner 3: Replicant Night           K. W. Jeter   \n9   4082  Blade Runner 2: The Edge of Human           K. W. Jeter   \n15  4386                        Book of Job                         \n20  6020                              Crash         J. G. Ballard   \n\n                                                Genre  \\\n0   {\"/m/016lj8\": \"Roman \\u00e0 clef\", \"/m/06nbt\":...   \n1   {\"/m/06n90\": \"Science Fiction\", \"/m/0l67h\": \"N...   \n2   {\"/m/02m4t\": \"Existentialism\", \"/m/02xlf\": \"Fi...   \n4   {\"/m/03lrw\": \"Hard science fiction\", \"/m/06n90...   \n5   {\"/m/098tmk\": \"War novel\", \"/m/016lj8\": \"Roman...   \n6   {\"/m/0dwly\": \"Children's literature\", \"/m/01hm...   \n8   {\"/m/06n90\": \"Science Fiction\", \"/m/014dfn\": \"...   \n9   {\"/m/06n90\": \"Science Fiction\", \"/m/014dfn\": \"...   \n15                    {\"/m/02mdj1\": \"Religious text\"}   \n20  {\"/m/014dfn\": \"Speculative fiction\", \"/m/02xlf...   \n\n                                              Summary  \\\n0    Old Major, the old boar on the Manor Farm, ca...   \n1    Alex, a teenager living in near-future Englan...   \n2    The text of The Plague is divided into five p...   \n4    The novel posits that space around the Milky ...   \n5    The book tells the story of Paul Bäumer, a Ge...   \n6    Ged is a young boy on Gont, one of the larger...   \n8    Living on Mars, Deckard is acting as a consul...   \n9    Beginning several months after the events in ...   \n15   The book of Job tells the story of an extreme...   \n20   The story is told through the eyes of narrato...   \n\n                                               Genres  \\\n0   Roman à clef Satire Children's literature Spec...   \n1   Science Fiction Novella Speculative fiction Ut...   \n2      Existentialism Fiction Absurdist fiction Novel   \n4   Hard science fiction Science Fiction Speculati...   \n5                              War novel Roman à clef   \n6   Children's literature Fantasy Speculative fict...   \n8                 Science Fiction Speculative fiction   \n9                 Science Fiction Speculative fiction   \n15                                     Religious text   \n20                  Speculative fiction Fiction Novel   \n\n                                        clean_summary  \n0   old major the old boar on the manor farm calls...  \n1   alex a teenager living in near future england ...  \n2   the text of the plague is divided into five pa...  \n4   the novel posits that space around the milky w...  \n5   the book tells the story of paul b umer a germ...  \n6   ged is a young boy on gont one of the larger i...  \n8   living on mars deckard is acting as a consulta...  \n9   beginning several months after the events in b...  \n15  the book of job tells the story of an extremel...  \n20  the story is told through the eyes of narrator...  ",
      "text/html": "<div>\n<style scoped>\n    .dataframe tbody tr th:only-of-type {\n        vertical-align: middle;\n    }\n\n    .dataframe tbody tr th {\n        vertical-align: top;\n    }\n\n    .dataframe thead th {\n        text-align: right;\n    }\n</style>\n<table border=\"1\" class=\"dataframe\">\n  <thead>\n    <tr style=\"text-align: right;\">\n      <th></th>\n      <th>ID</th>\n      <th>BookTitle</th>\n      <th>Author</th>\n      <th>Genre</th>\n      <th>Summary</th>\n      <th>Genres</th>\n      <th>clean_summary</th>\n    </tr>\n  </thead>\n  <tbody>\n    <tr>\n      <th>0</th>\n      <td>620</td>\n      <td>Animal Farm</td>\n      <td>George Orwell</td>\n      <td>{\"/m/016lj8\": \"Roman \\u00e0 clef\", \"/m/06nbt\":...</td>\n      <td>Old Major, the old boar on the Manor Farm, ca...</td>\n      <td>Roman à clef Satire Children's literature Spec...</td>\n      <td>old major the old boar on the manor farm calls...</td>\n    </tr>\n    <tr>\n      <th>1</th>\n      <td>843</td>\n      <td>A Clockwork Orange</td>\n      <td>Anthony Burgess</td>\n      <td>{\"/m/06n90\": \"Science Fiction\", \"/m/0l67h\": \"N...</td>\n      <td>Alex, a teenager living in near-future Englan...</td>\n      <td>Science Fiction Novella Speculative fiction Ut...</td>\n      <td>alex a teenager living in near future england ...</td>\n    </tr>\n    <tr>\n      <th>2</th>\n      <td>986</td>\n      <td>The Plague</td>\n      <td>Albert Camus</td>\n      <td>{\"/m/02m4t\": \"Existentialism\", \"/m/02xlf\": \"Fi...</td>\n      <td>The text of The Plague is divided into five p...</td>\n      <td>Existentialism Fiction Absurdist fiction Novel</td>\n      <td>the text of the plague is divided into five pa...</td>\n    </tr>\n    <tr>\n      <th>4</th>\n      <td>2080</td>\n      <td>A Fire Upon the Deep</td>\n      <td>Vernor Vinge</td>\n      <td>{\"/m/03lrw\": \"Hard science fiction\", \"/m/06n90...</td>\n      <td>The novel posits that space around the Milky ...</td>\n      <td>Hard science fiction Science Fiction Speculati...</td>\n      <td>the novel posits that space around the milky w...</td>\n    </tr>\n    <tr>\n      <th>5</th>\n      <td>2152</td>\n      <td>All Quiet on the Western Front</td>\n      <td>Erich Maria Remarque</td>\n      <td>{\"/m/098tmk\": \"War novel\", \"/m/016lj8\": \"Roman...</td>\n      <td>The book tells the story of Paul Bäumer, a Ge...</td>\n      <td>War novel Roman à clef</td>\n      <td>the book tells the story of paul b umer a germ...</td>\n    </tr>\n    <tr>\n      <th>6</th>\n      <td>2890</td>\n      <td>A Wizard of Earthsea</td>\n      <td>Ursula K. Le Guin</td>\n      <td>{\"/m/0dwly\": \"Children's literature\", \"/m/01hm...</td>\n      <td>Ged is a young boy on Gont, one of the larger...</td>\n      <td>Children's literature Fantasy Speculative fict...</td>\n      <td>ged is a young boy on gont one of the larger i...</td>\n    </tr>\n    <tr>\n      <th>8</th>\n      <td>4081</td>\n      <td>Blade Runner 3: Replicant Night</td>\n      <td>K. W. Jeter</td>\n      <td>{\"/m/06n90\": \"Science Fiction\", \"/m/014dfn\": \"...</td>\n      <td>Living on Mars, Deckard is acting as a consul...</td>\n      <td>Science Fiction Speculative fiction</td>\n      <td>living on mars deckard is acting as a consulta...</td>\n    </tr>\n    <tr>\n      <th>9</th>\n      <td>4082</td>\n      <td>Blade Runner 2: The Edge of Human</td>\n      <td>K. W. Jeter</td>\n      <td>{\"/m/06n90\": \"Science Fiction\", \"/m/014dfn\": \"...</td>\n      <td>Beginning several months after the events in ...</td>\n      <td>Science Fiction Speculative fiction</td>\n      <td>beginning several months after the events in b...</td>\n    </tr>\n    <tr>\n      <th>15</th>\n      <td>4386</td>\n      <td>Book of Job</td>\n      <td></td>\n      <td>{\"/m/02mdj1\": \"Religious text\"}</td>\n      <td>The book of Job tells the story of an extreme...</td>\n      <td>Religious text</td>\n      <td>the book of job tells the story of an extremel...</td>\n    </tr>\n    <tr>\n      <th>20</th>\n      <td>6020</td>\n      <td>Crash</td>\n      <td>J. G. Ballard</td>\n      <td>{\"/m/014dfn\": \"Speculative fiction\", \"/m/02xlf...</td>\n      <td>The story is told through the eyes of narrato...</td>\n      <td>Speculative fiction Fiction Novel</td>\n      <td>the story is told through the eyes of narrator...</td>\n    </tr>\n  </tbody>\n</table>\n</div>"
     },
     "execution_count": 107,
     "metadata": {},
     "output_type": "execute_result"
    }
   ],
   "source": [
    "df.head(10)"
   ],
   "metadata": {
    "collapsed": false
   }
  },
  {
   "cell_type": "code",
   "execution_count": 113,
   "outputs": [],
   "source": [
    "df['genres_clean_summary'] = df['Genres'] + \" \" + df['clean_summary']"
   ],
   "metadata": {
    "collapsed": false
   }
  },
  {
   "cell_type": "code",
   "execution_count": 114,
   "outputs": [],
   "source": [
    "vectorizer = TfidfVectorizer(stop_words='english')\n",
    "X = vectorizer.fit_transform(df['genres_clean_summary'])"
   ],
   "metadata": {
    "collapsed": false
   }
  },
  {
   "cell_type": "code",
   "execution_count": 115,
   "outputs": [
    {
     "data": {
      "text/plain": "NearestNeighbors(algorithm='brute', metric='cosine')",
      "text/html": "<style>#sk-container-id-3 {color: black;background-color: white;}#sk-container-id-3 pre{padding: 0;}#sk-container-id-3 div.sk-toggleable {background-color: white;}#sk-container-id-3 label.sk-toggleable__label {cursor: pointer;display: block;width: 100%;margin-bottom: 0;padding: 0.3em;box-sizing: border-box;text-align: center;}#sk-container-id-3 label.sk-toggleable__label-arrow:before {content: \"▸\";float: left;margin-right: 0.25em;color: #696969;}#sk-container-id-3 label.sk-toggleable__label-arrow:hover:before {color: black;}#sk-container-id-3 div.sk-estimator:hover label.sk-toggleable__label-arrow:before {color: black;}#sk-container-id-3 div.sk-toggleable__content {max-height: 0;max-width: 0;overflow: hidden;text-align: left;background-color: #f0f8ff;}#sk-container-id-3 div.sk-toggleable__content pre {margin: 0.2em;color: black;border-radius: 0.25em;background-color: #f0f8ff;}#sk-container-id-3 input.sk-toggleable__control:checked~div.sk-toggleable__content {max-height: 200px;max-width: 100%;overflow: auto;}#sk-container-id-3 input.sk-toggleable__control:checked~label.sk-toggleable__label-arrow:before {content: \"▾\";}#sk-container-id-3 div.sk-estimator input.sk-toggleable__control:checked~label.sk-toggleable__label {background-color: #d4ebff;}#sk-container-id-3 div.sk-label input.sk-toggleable__control:checked~label.sk-toggleable__label {background-color: #d4ebff;}#sk-container-id-3 input.sk-hidden--visually {border: 0;clip: rect(1px 1px 1px 1px);clip: rect(1px, 1px, 1px, 1px);height: 1px;margin: -1px;overflow: hidden;padding: 0;position: absolute;width: 1px;}#sk-container-id-3 div.sk-estimator {font-family: monospace;background-color: #f0f8ff;border: 1px dotted black;border-radius: 0.25em;box-sizing: border-box;margin-bottom: 0.5em;}#sk-container-id-3 div.sk-estimator:hover {background-color: #d4ebff;}#sk-container-id-3 div.sk-parallel-item::after {content: \"\";width: 100%;border-bottom: 1px solid gray;flex-grow: 1;}#sk-container-id-3 div.sk-label:hover label.sk-toggleable__label {background-color: #d4ebff;}#sk-container-id-3 div.sk-serial::before {content: \"\";position: absolute;border-left: 1px solid gray;box-sizing: border-box;top: 0;bottom: 0;left: 50%;z-index: 0;}#sk-container-id-3 div.sk-serial {display: flex;flex-direction: column;align-items: center;background-color: white;padding-right: 0.2em;padding-left: 0.2em;position: relative;}#sk-container-id-3 div.sk-item {position: relative;z-index: 1;}#sk-container-id-3 div.sk-parallel {display: flex;align-items: stretch;justify-content: center;background-color: white;position: relative;}#sk-container-id-3 div.sk-item::before, #sk-container-id-3 div.sk-parallel-item::before {content: \"\";position: absolute;border-left: 1px solid gray;box-sizing: border-box;top: 0;bottom: 0;left: 50%;z-index: -1;}#sk-container-id-3 div.sk-parallel-item {display: flex;flex-direction: column;z-index: 1;position: relative;background-color: white;}#sk-container-id-3 div.sk-parallel-item:first-child::after {align-self: flex-end;width: 50%;}#sk-container-id-3 div.sk-parallel-item:last-child::after {align-self: flex-start;width: 50%;}#sk-container-id-3 div.sk-parallel-item:only-child::after {width: 0;}#sk-container-id-3 div.sk-dashed-wrapped {border: 1px dashed gray;margin: 0 0.4em 0.5em 0.4em;box-sizing: border-box;padding-bottom: 0.4em;background-color: white;}#sk-container-id-3 div.sk-label label {font-family: monospace;font-weight: bold;display: inline-block;line-height: 1.2em;}#sk-container-id-3 div.sk-label-container {text-align: center;}#sk-container-id-3 div.sk-container {/* jupyter's `normalize.less` sets `[hidden] { display: none; }` but bootstrap.min.css set `[hidden] { display: none !important; }` so we also need the `!important` here to be able to override the default hidden behavior on the sphinx rendered scikit-learn.org. See: https://github.com/scikit-learn/scikit-learn/issues/21755 */display: inline-block !important;position: relative;}#sk-container-id-3 div.sk-text-repr-fallback {display: none;}</style><div id=\"sk-container-id-3\" class=\"sk-top-container\"><div class=\"sk-text-repr-fallback\"><pre>NearestNeighbors(algorithm=&#x27;brute&#x27;, metric=&#x27;cosine&#x27;)</pre><b>In a Jupyter environment, please rerun this cell to show the HTML representation or trust the notebook. <br />On GitHub, the HTML representation is unable to render, please try loading this page with nbviewer.org.</b></div><div class=\"sk-container\" hidden><div class=\"sk-item\"><div class=\"sk-estimator sk-toggleable\"><input class=\"sk-toggleable__control sk-hidden--visually\" id=\"sk-estimator-id-3\" type=\"checkbox\" checked><label for=\"sk-estimator-id-3\" class=\"sk-toggleable__label sk-toggleable__label-arrow\">NearestNeighbors</label><div class=\"sk-toggleable__content\"><pre>NearestNeighbors(algorithm=&#x27;brute&#x27;, metric=&#x27;cosine&#x27;)</pre></div></div></div></div></div>"
     },
     "execution_count": 115,
     "metadata": {},
     "output_type": "execute_result"
    }
   ],
   "source": [
    "knn = NearestNeighbors(n_neighbors=5, algorithm='brute', metric='cosine')\n",
    "knn.fit(X)"
   ],
   "metadata": {
    "collapsed": false
   }
  },
  {
   "cell_type": "code",
   "execution_count": 116,
   "outputs": [],
   "source": [
    "def recommend_books(book_title):\n",
    "    book_index = df[df['BookTitle'] == book_title].index[0]\n",
    "    distances, indices = knn.kneighbors(X[book_index], n_neighbors=6)\n",
    "\n",
    "    print('Recommendations for', book_title)\n",
    "    print('-----------------------------------')\n",
    "    for i in range(1, len(distances.flatten())):\n",
    "        recommended_book_title = df.loc[indices.flatten()[i], 'BookTitle']\n",
    "        recommended_book_distance = distances.flatten()[i]\n",
    "        print('{0}: {1}, with distance of {2}'.format(i, recommended_book_title, recommended_book_distance))"
   ],
   "metadata": {
    "collapsed": false
   }
  },
  {
   "cell_type": "code",
   "execution_count": 126,
   "outputs": [
    {
     "name": "stdout",
     "output_type": "stream",
     "text": [
      "Recommendations for Harry Potter and the Order of the Phoenix\n",
      "-----------------------------------\n",
      "1: The Falling Woman, with distance of 0.8844418249890911\n",
      "2: Dust to Dust, with distance of 0.8856460067099035\n",
      "3: The Strange World of Planet X, with distance of 0.8939669185922765\n",
      "4: Journey by Moonlight, with distance of 0.8950291508670876\n",
      "5: Deathstalker Destiny, with distance of 0.9014127384690566\n"
     ]
    }
   ],
   "source": [
    "recommend_books(\"Harry Potter and the Order of the Phoenix\")"
   ],
   "metadata": {
    "collapsed": false
   }
  },
  {
   "cell_type": "code",
   "execution_count": null,
   "outputs": [],
   "source": [],
   "metadata": {
    "collapsed": false
   }
  }
 ],
 "metadata": {
  "kernelspec": {
   "display_name": "Python 3",
   "language": "python",
   "name": "python3"
  },
  "language_info": {
   "codemirror_mode": {
    "name": "ipython",
    "version": 2
   },
   "file_extension": ".py",
   "mimetype": "text/x-python",
   "name": "python",
   "nbconvert_exporter": "python",
   "pygments_lexer": "ipython2",
   "version": "2.7.6"
  }
 },
 "nbformat": 4,
 "nbformat_minor": 0
}
